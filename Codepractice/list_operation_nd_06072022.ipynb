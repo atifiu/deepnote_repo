{
 "cells": [
  {
   "cell_type": "markdown",
   "source": "#### 👉 Generating the list of sequence of number from 0 to 10",
   "metadata": {
    "cell_id": "22d3af2f5bec48c7a35dc3ab915ac188",
    "tags": [],
    "deepnote_cell_type": "markdown",
    "deepnote_cell_height": 54
   }
  },
  {
   "cell_type": "code",
   "metadata": {
    "tags": [],
    "cell_id": "5a875f2f-259e-48ec-8f56-57295c88da64",
    "deepnote_to_be_reexecuted": false,
    "source_hash": "d83579bc",
    "execution_start": 1657132501268,
    "execution_millis": 73351,
    "deepnote_cell_type": "code",
    "deepnote_cell_height": 129.1875
   },
   "source": "list1 = [x for x in range(0, 11)]\nprint(f\"{list1} id of the list is {(id(list1))}\")",
   "execution_count": null,
   "outputs": [
    {
     "name": "stdout",
     "text": "[0, 1, 2, 3, 4, 5, 6, 7, 8, 9, 10] id of the list is 140202510162992\n",
     "output_type": "stream"
    }
   ]
  },
  {
   "cell_type": "markdown",
   "source": "#### 👉 Reverse method will revesrse the list in place i.e. it will modify the existing list and return type will be None",
   "metadata": {
    "cell_id": "0a6d2a8917474c26a1b41a38404bd89f",
    "tags": [],
    "deepnote_cell_type": "markdown",
    "deepnote_cell_height": 78
   }
  },
  {
   "cell_type": "code",
   "metadata": {
    "cell_id": "ec10373203b24ba788b524c00ad3bfe1",
    "tags": [],
    "deepnote_to_be_reexecuted": false,
    "source_hash": "979c21b3",
    "execution_start": 1657132501283,
    "execution_millis": 73358,
    "deepnote_cell_type": "code",
    "deepnote_cell_height": 118.171875
   },
   "source": "type(list1.reverse())",
   "execution_count": null,
   "outputs": [
    {
     "output_type": "execute_result",
     "execution_count": 2,
     "data": {
      "text/plain": "NoneType"
     },
     "metadata": {}
    }
   ]
  },
  {
   "cell_type": "code",
   "metadata": {
    "cell_id": "cd90e0eb6c6345aa89c9c607c31dce5b",
    "tags": [],
    "deepnote_to_be_reexecuted": false,
    "source_hash": "aa60299a",
    "execution_start": 1657132501345,
    "execution_millis": 73396,
    "deepnote_cell_type": "code",
    "deepnote_cell_height": 129.1875
   },
   "source": "# List is reversed but id is same which confirms that same list has been modified.\nprint(f\"{list1} id of the list is {(id(list1))}\")",
   "execution_count": null,
   "outputs": [
    {
     "name": "stdout",
     "text": "[10, 9, 8, 7, 6, 5, 4, 3, 2, 1, 0] id of the list is 140202510162992\n",
     "output_type": "stream"
    }
   ]
  },
  {
   "cell_type": "markdown",
   "source": "#### 👉 Generating the original list again but this time we will use slice method to reverse the list",
   "metadata": {
    "cell_id": "6e709861fa78406fa3793f6a22a5d231",
    "tags": [],
    "deepnote_cell_type": "markdown",
    "deepnote_cell_height": 54
   }
  },
  {
   "cell_type": "code",
   "metadata": {
    "cell_id": "b6eb798826b84437a3655623f2ccd0b0",
    "tags": [],
    "deepnote_to_be_reexecuted": false,
    "source_hash": "d83579bc",
    "execution_start": 1657132501346,
    "execution_millis": 73464,
    "deepnote_cell_type": "code",
    "deepnote_cell_height": 129.1875
   },
   "source": "list1 = [x for x in range(0, 11)]\nprint(f\"{list1} id of the list is {(id(list1))}\")",
   "execution_count": null,
   "outputs": [
    {
     "name": "stdout",
     "text": "[0, 1, 2, 3, 4, 5, 6, 7, 8, 9, 10] id of the list is 140202510162672\n",
     "output_type": "stream"
    }
   ]
  },
  {
   "cell_type": "code",
   "metadata": {
    "cell_id": "f5ede8bbf73a4aeba1dd48352e0e599c",
    "tags": [],
    "deepnote_to_be_reexecuted": false,
    "source_hash": "8ca70b93",
    "execution_start": 1657132501387,
    "execution_millis": 73443,
    "deepnote_cell_type": "code",
    "deepnote_cell_height": 147.1875
   },
   "source": "#new list is created as reverse_list using slice method\nreverse_list = list1[::-1]\nprint(f\"{reverse_list} id of the list is {(id(reverse_list))}\")",
   "execution_count": null,
   "outputs": [
    {
     "name": "stdout",
     "text": "[10, 9, 8, 7, 6, 5, 4, 3, 2, 1, 0] id of the list is 140202510162992\n",
     "output_type": "stream"
    }
   ]
  },
  {
   "cell_type": "code",
   "metadata": {
    "cell_id": "a67ef8bcf0164fa48cfb360e330e518c",
    "tags": [],
    "deepnote_to_be_reexecuted": false,
    "source_hash": "4aec2da8",
    "execution_start": 1657132501387,
    "execution_millis": 73451,
    "deepnote_cell_type": "code",
    "deepnote_cell_height": 202.375
   },
   "source": "# On changing the original list it does not impact the reverse list which signifies that shallow copy \n# has been generated using slice method\nlist1[0] = 11\nprint(f\"original list = {list1} id of the list is {(id(list1))}\")\nprint(f\"reverse_list = {reverse_list} id of the list is {(id(reverse_list))}\")",
   "execution_count": null,
   "outputs": [
    {
     "name": "stdout",
     "text": "original list = [11, 1, 2, 3, 4, 5, 6, 7, 8, 9, 10] id of the list is 140202510162672\nreverse_list = [10, 9, 8, 7, 6, 5, 4, 3, 2, 1, 0] id of the list is 140202510162992\n",
     "output_type": "stream"
    }
   ]
  },
  {
   "cell_type": "code",
   "metadata": {
    "cell_id": "15222cad622141fa9866af108b761b0a",
    "tags": [],
    "deepnote_to_be_reexecuted": false,
    "source_hash": "d45ce530",
    "execution_start": 1657136037591,
    "execution_millis": 5,
    "deepnote_cell_type": "code",
    "deepnote_cell_height": 147.1875
   },
   "source": "#list1 = [x  for x in list(zip(range(0, 11) , range(0, 11)))]\nlist1 = [[x for x in range(0, 11)], [z for z in range(10, -1, -1)]]\nprint(f\"{list1} id of the list is {(id(list1))}\")",
   "execution_count": null,
   "outputs": [
    {
     "name": "stdout",
     "text": "[[0, 1, 2, 3, 4, 5, 6, 7, 8, 9, 10], [10, 9, 8, 7, 6, 5, 4, 3, 2, 1, 0]] id of the list is 140432238125776\n",
     "output_type": "stream"
    }
   ]
  },
  {
   "cell_type": "code",
   "metadata": {
    "cell_id": "8d74f3303bb848f788f2aa411b56844f",
    "tags": [],
    "deepnote_to_be_reexecuted": false,
    "source_hash": "e61264c3",
    "execution_start": 1657136044782,
    "execution_millis": 2,
    "deepnote_cell_type": "code",
    "deepnote_cell_height": 136.171875
   },
   "source": "list1.reverse()\nlist1",
   "execution_count": null,
   "outputs": [
    {
     "output_type": "execute_result",
     "execution_count": 11,
     "data": {
      "text/plain": "[[10, 9, 8, 7, 6, 5, 4, 3, 2, 1, 0], [0, 1, 2, 3, 4, 5, 6, 7, 8, 9, 10]]"
     },
     "metadata": {}
    }
   ]
  },
  {
   "cell_type": "markdown",
   "source": "#### 👉 Generate a nested list and see the impact of shallow copy on reverse list using slice",
   "metadata": {
    "cell_id": "6354c4dd728b495a970dc8048466bf83",
    "tags": [],
    "deepnote_cell_type": "markdown",
    "deepnote_cell_height": 54
   }
  },
  {
   "cell_type": "code",
   "metadata": {
    "cell_id": "f66916bc2c8e4d6ebc4aef53bca15456",
    "tags": [],
    "deepnote_to_be_reexecuted": false,
    "source_hash": "d45ce530",
    "execution_start": 1657136103671,
    "execution_millis": 0,
    "deepnote_cell_type": "code",
    "deepnote_cell_height": 147.1875
   },
   "source": "#list1 = [x  for x in list(zip(range(0, 11) , range(0, 11)))]\nlist1 = [[x for x in range(0, 11)], [z for z in range(10, -1, -1)]]\nprint(f\"{list1} id of the list is {(id(list1))}\")",
   "execution_count": null,
   "outputs": [
    {
     "name": "stdout",
     "text": "[[0, 1, 2, 3, 4, 5, 6, 7, 8, 9, 10], [10, 9, 8, 7, 6, 5, 4, 3, 2, 1, 0]] id of the list is 140432242263776\n",
     "output_type": "stream"
    }
   ]
  },
  {
   "cell_type": "code",
   "metadata": {
    "cell_id": "a6a585d703b64feea6dd683e8fad6bbd",
    "tags": [],
    "deepnote_to_be_reexecuted": false,
    "source_hash": "8ca70b93",
    "execution_start": 1657136111110,
    "execution_millis": 2,
    "deepnote_cell_type": "code",
    "deepnote_cell_height": 147.1875
   },
   "source": "#new list is created as reverse_list using slice method\nreverse_list = list1[::-1]\nprint(f\"{reverse_list} id of the list is {(id(reverse_list))}\")",
   "execution_count": null,
   "outputs": [
    {
     "name": "stdout",
     "text": "[[10, 9, 8, 7, 6, 5, 4, 3, 2, 1, 0], [0, 1, 2, 3, 4, 5, 6, 7, 8, 9, 10]] id of the list is 140432242336944\n",
     "output_type": "stream"
    }
   ]
  },
  {
   "cell_type": "code",
   "metadata": {
    "cell_id": "31a75d7d2f8c47258e864ef6bba444a2",
    "tags": [],
    "deepnote_to_be_reexecuted": false,
    "source_hash": "748843c8",
    "execution_start": 1657136184623,
    "execution_millis": 116,
    "owner_user_id": "3e9918d0-3189-40ef-ab01-8557f70eec64",
    "deepnote_cell_type": "code",
    "deepnote_cell_height": 184.375
   },
   "source": "# Change the first element of first nested list to 11\nlist1[0][0] = 11\nprint(f\"original list = {list1} id of the list is {(id(list1))}\")\nprint(f\"reverse_list = {reverse_list} id of the list is {(id(reverse_list))}\")",
   "execution_count": null,
   "outputs": [
    {
     "name": "stdout",
     "text": "original list = [[11, 1, 2, 3, 4, 5, 6, 7, 8, 9, 10], [10, 9, 8, 7, 6, 5, 4, 3, 2, 1, 0]] id of the list is 140432242263776\nreverse_list = [[10, 9, 8, 7, 6, 5, 4, 3, 2, 1, 0], [11, 1, 2, 3, 4, 5, 6, 7, 8, 9, 10]] id of the list is 140432242336944\n",
     "output_type": "stream"
    }
   ]
  },
  {
   "cell_type": "markdown",
   "source": "<a style='text-decoration:none;line-height:16px;display:flex;color:#5B5B62;padding:10px;justify-content:end;' href='https://deepnote.com?utm_source=created-in-deepnote-cell&projectId=76e2df7a-4a6e-4112-9680-1feec18bdf23' target=\"_blank\">\n<img alt='Created in deepnote.com' style='display:inline;max-height:16px;margin:0px;margin-right:7.5px;' src='data:image/svg+xml;base64,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' > </img>\nCreated in <span style='font-weight:600;margin-left:4px;'>Deepnote</span></a>",
   "metadata": {
    "tags": [],
    "created_in_deepnote_cell": true,
    "deepnote_cell_type": "markdown"
   }
  }
 ],
 "nbformat": 4,
 "nbformat_minor": 2,
 "metadata": {
  "orig_nbformat": 2,
  "deepnote": {},
  "deepnote_notebook_id": "cd35d4db-a60b-4d8d-8cdb-34099268c885",
  "deepnote_execution_queue": []
 }
}