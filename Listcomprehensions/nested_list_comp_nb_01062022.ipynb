{
 "cells": [
  {
   "cell_type": "code",
   "metadata": {
    "tags": [],
    "deepnote_to_be_reexecuted": false,
    "source_hash": "5e2ea7e1",
    "execution_start": 1654072693290,
    "execution_millis": 462,
    "cell_id": "843074cb-647f-4b43-b593-059bae16a052",
    "deepnote_cell_type": "code",
    "deepnote_cell_height": 129.859375
   },
   "source": "print(\"Hello World\")\n",
   "execution_count": null,
   "outputs": [
    {
     "name": "stdout",
     "text": "Hello World\n",
     "output_type": "stream"
    }
   ]
  },
  {
   "cell_type": "markdown",
   "source": "### Uisng Nested loop comprehensions",
   "metadata": {
    "cell_id": "b3e9662dd5b146a199bd56770f8af33d",
    "tags": [],
    "owner_user_id": "3e9918d0-3189-40ef-ab01-8557f70eec64",
    "deepnote_cell_type": "markdown",
    "deepnote_cell_height": 62
   }
  },
  {
   "cell_type": "code",
   "metadata": {
    "tags": [],
    "deepnote_to_be_reexecuted": false,
    "source_hash": "b6f26f7d",
    "execution_start": 1654072693318,
    "execution_millis": 439,
    "cell_id": "00002-05031eaf-5a3c-4e8f-8d31-8a0224c4bbb2",
    "deepnote_cell_type": "code",
    "deepnote_cell_height": 257.71875
   },
   "source": "food = [\"carrots\", \"eggs\"]\nprep = [\"raw\", \"stewed\", \"boiled\"]\n\ncombos = [p + \" \" + f for p in prep for f in food if p != \"stewed\" ] #Option A\nprint(combos)\ncombos = []\ncombos = [p + \" \" + f for p in prep if p != \"stewed\" for f in food  ] #Option B\nprint(combos)",
   "execution_count": null,
   "outputs": [
    {
     "name": "stdout",
     "text": "['raw carrots', 'raw eggs', 'boiled carrots', 'boiled eggs']\n['raw carrots', 'raw eggs', 'boiled carrots', 'boiled eggs']\n",
     "output_type": "stream"
    }
   ]
  },
  {
   "cell_type": "markdown",
   "source": "### Using Nested loops\n\n",
   "metadata": {
    "tags": [],
    "cell_id": "00003-15830dd3-828c-4e7f-9104-58fc70c8751f",
    "deepnote_cell_type": "markdown",
    "deepnote_cell_height": 62
   }
  },
  {
   "cell_type": "code",
   "metadata": {
    "tags": [],
    "deepnote_to_be_reexecuted": false,
    "source_hash": "1b29e118",
    "execution_start": 1654072693318,
    "execution_millis": 1,
    "cell_id": "00004-72a47951-7cf6-4122-9c0b-53bcc87d1e7c",
    "deepnote_cell_type": "code",
    "deepnote_cell_height": 363.859375
   },
   "source": "#Using option B will be better in terms of performance \n#as inner loop will be executed less number of times\n\nfood = [\"carrots\", \"eggs\"]\nprep = [\"raw\", \"stewed\", \"boiled\"]\ncombos = []\nfor p  in prep:\n   for f in food:\n       if p != 'stewed':\n           combos.append(p+ \" \" + f)\nprint(combos)\n\n   \n    \n",
   "execution_count": null,
   "outputs": [
    {
     "name": "stdout",
     "text": "['raw carrots', 'raw eggs', 'boiled carrots', 'boiled eggs']\n",
     "output_type": "stream"
    }
   ]
  },
  {
   "cell_type": "code",
   "metadata": {
    "cell_id": "23973993e6fb4158819f2e3df9af36cb",
    "tags": [],
    "deepnote_to_be_reexecuted": false,
    "source_hash": "b571a878",
    "execution_start": 1654072693320,
    "execution_millis": 440,
    "deepnote_cell_type": "code",
    "deepnote_cell_height": 273.859375
   },
   "source": "#Using option A \n\nfood = [\"carrots\", \"eggs\"]\nprep = [\"raw\", \"stewed\", \"boiled\"]\ncombos = []\nfor p  in prep:\n    if p != 'stewed':\n        for f in food:\n            combos.append(p+ \" \" + f)\nprint(combos)",
   "execution_count": null,
   "outputs": [
    {
     "name": "stdout",
     "text": "['raw carrots', 'raw eggs', 'boiled carrots', 'boiled eggs']\n",
     "output_type": "stream"
    }
   ]
  },
  {
   "cell_type": "markdown",
   "source": "<a style='text-decoration:none;line-height:16px;display:flex;color:#5B5B62;padding:10px;justify-content:end;' href='https://deepnote.com?utm_source=created-in-deepnote-cell&projectId=d0e8a3f6-6ad2-4f70-b2b4-99acfad05606' target=\"_blank\">\n<img alt='Created in deepnote.com' style='display:inline;max-height:16px;margin:0px;margin-right:7.5px;' src='data:image/svg+xml;base64,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' > </img>\nCreated in <span style='font-weight:600;margin-left:4px;'>Deepnote</span></a>",
   "metadata": {
    "tags": [],
    "created_in_deepnote_cell": true,
    "deepnote_cell_type": "markdown"
   }
  }
 ],
 "nbformat": 4,
 "nbformat_minor": 2,
 "metadata": {
  "orig_nbformat": 2,
  "deepnote": {},
  "deepnote_notebook_id": "61522639-ea2a-4298-8ef7-a28e2d9538d5",
  "deepnote_execution_queue": []
 }
}